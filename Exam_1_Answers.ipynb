{
 "cells": [
  {
   "cell_type": "markdown",
   "metadata": {},
   "source": [
    "Introduction to Computional Biology. Exam_1_Answers\n",
    "\n",
    "Student: Álvaro García López\n",
    "\n",
    "# Problem 2:\n",
    "\n",
    "We are going to list the Exam Git directory that we copy from Git. To achieve that with human readable (\"h\") files-sizes we use the command \"ls -lh\"."
   ]
  },
  {
   "cell_type": "code",
   "execution_count": 1,
   "metadata": {},
   "outputs": [
    {
     "name": "stdout",
     "output_type": "stream",
     "text": [
      "total 2.8M\n",
      "-rw-rw-r-- 1 osboxes osboxes 1.2M Sep  8 04:25  conv.txt\n",
      "-rw-rw-r-- 1 osboxes osboxes  147 Sep  8 04:25  DISCLAIMER\n",
      "-rw-rw-r-- 1 osboxes osboxes 362K Sep  8 07:28  Exam_1_Answers.ipynb\n",
      "-rw-rw-r-- 1 osboxes osboxes 5.5K Sep  8 04:25 'Exam Week 1.ipynb'\n",
      "-rw-rw-r-- 1 osboxes osboxes 3.9K Sep  8 04:25 'Exam Week 2.ipynb'\n",
      "-rw-rw-r-- 1 osboxes osboxes 4.2K Sep  8 04:25  Germplasm.tsv\n",
      "-rw-rw-r-- 1 osboxes osboxes  141 Sep  8 04:25  how_to_convert.txt\n",
      "-rw-rw-r-- 1 osboxes osboxes 1.1K Sep  8 04:25  LICENSE\n",
      "-rw-rw-r-- 1 osboxes osboxes  637 Sep  8 04:25  LocusGene.tsv\n",
      "-rw-rw-r-- 1 osboxes osboxes 1.2M Sep  8 04:25  Locus_Germplasm_Phenotype_20130122.txt\n",
      "-rw-rw-r-- 1 osboxes osboxes  743 Sep  8 04:25  README.md\n"
     ]
    }
   ],
   "source": [
    "ls -lh"
   ]
  },
  {
   "cell_type": "markdown",
   "metadata": {},
   "source": [
    "We can see that the owner of the file \"Locus_Germplasm_Phenotype_20130122.txt\" is osboxes (also the group is osboxes) and the its size is 1.2MB.\n",
    "\n",
    "Talking about Permissions, we have at the beggining of this file's row \"-rw-rw-r--\", if we forget the first \"-\" (that just means that it is a file) and we divide this into three columns, we obtain \"rw-\", \"rw-\" and \"r--\". These three columns talk about \"onwer users\", \"group\" and \"anyone\" permissions, respectly. So, this three columns (\"rw-\", \"rw-\" and \"r--\") mean the following:\n",
    "\n",
    "\"Owner users\": can read (\"r\"), can write (\"w\"), cannot execute (there isn't a \"x\").\n",
    "\n",
    "\"Group\": can read (\"r\"), can write (\"w\"), cannot execute (there isn't a \"x\").\n",
    "\n",
    "\"Anyone\": can read (\"r\"), cannot write and cannot execute (there aren't \"w\" and \"x\").\n",
    "\n",
    "# Problem 3:\n",
    "\n",
    "We can simply use the command \"head -1\" followed by \"Locus_Germplasm_Phenotype_20130122.txt\" and we obtain the first line of this file that is the \"header\" line."
   ]
  },
  {
   "cell_type": "code",
   "execution_count": 7,
   "metadata": {},
   "outputs": [
    {
     "name": "stdout",
     "output_type": "stream",
     "text": [
      "Locus_name)\tGermplasm_name\tphenotype\tpubmed_id\n"
     ]
    }
   ],
   "source": [
    "head -1 Locus_Germplasm_Phenotype_20130122.txt"
   ]
  },
  {
   "cell_type": "markdown",
   "metadata": {},
   "source": [
    "# Problem 4:\n",
    "\n",
    "We use the command \"wc -l\" to count the number of lines in the file (7216 lines)."
   ]
  },
  {
   "cell_type": "code",
   "execution_count": 2,
   "metadata": {},
   "outputs": [
    {
     "name": "stdout",
     "output_type": "stream",
     "text": [
      "7216 Locus_Germplasm_Phenotype_20130122.txt\n"
     ]
    }
   ],
   "source": [
    "wc -l Locus_Germplasm_Phenotype_20130122.txt"
   ]
  },
  {
   "cell_type": "markdown",
   "metadata": {},
   "source": [
    "# Problem 5: \n",
    "We can use the command \"grep\" with the file \"Locus_Germplasm_Phenotype_20130122.txt\" in the following way to achieve that. We match all the lines that are different from the header using the command \"grep -E -va\" and writing between \"\" the header, that is: \"^Locus\\S\\name\\Ss+Germplasm\\Sname\\s+phenotype\\s+pubmed\\Sid\". The important thing in this command is \"-v\" to match all the rest of lines that are not the header (\"-a\" is also important because we don't know the origin of the file). Once we have this match we send it to a new file called \"Data_Only.csv\".\n",
    "\n",
    "We prove using the command \"wc -l\" that teh file \"Data_Only.csv\" contains 7215 lines that is the number of lines in the file \"Locus_Germplasm_Phenotype_20130122.txt\" minus one (the header)."
   ]
  },
  {
   "cell_type": "code",
   "execution_count": 35,
   "metadata": {},
   "outputs": [
    {
     "name": "stdout",
     "output_type": "stream",
     "text": [
      "7215 Data_Only.csv\n"
     ]
    }
   ],
   "source": [
    "grep -E -va \"^Locus\\Sname\\S\\s+Germplasm\\Sname\\s+phenotype\\s+pubmed\\Sid\" Locus_Germplasm_Phenotype_20130122.txt > Data_Only.csv\n",
    "wc -l Data_Only.csv\n"
   ]
  },
  {
   "cell_type": "markdown",
   "metadata": {},
   "source": [
    "# Problem 6:\n",
    "We use \"grep\" again matching the word \"root\" adding \"-ina\" (insensitive to case, asking for the line number)."
   ]
  },
  {
   "cell_type": "code",
   "execution_count": null,
   "metadata": {},
   "outputs": [],
   "source": [
    "grep -ina \"root\" Locus_Germplasm_Phenotype_20130122.txt\n"
   ]
  },
  {
   "cell_type": "markdown",
   "metadata": {},
   "source": [
    "# Problem 7:\n",
    "\n",
    "Firstly, we ask for the same match as the last problem using the same command, but we use a pipe to add a new command that uses the before-pipe command output as its input. The after-pipe command is another \"grep\" with \"-E -iao\" (insensitive and printing only the match) matching the AGI Locus Code pattern and we send its output to a new file called \"Root-associated-Loci.txt\". \n",
    "\n",
    "So, this way we have firstly selected the root-associated lines in the \"Locus_Germplasm_Phenotype_20130122.txt\" file (with the first command) and, sequentially, we have selected and print the AGI Locus Code (\"-o\" only) from among that previous selectionn to a new file."
   ]
  },
  {
   "cell_type": "code",
   "execution_count": null,
   "metadata": {
    "scrolled": true
   },
   "outputs": [],
   "source": [
    "grep -ina \"root\" Locus_Germplasm_Phenotype_20130122.txt | grep -E -iao \"at[1-5]g[0-9]{5}\" > Root-associated-Loci.txt\n",
    "echo \"small control of match specificty\"\n",
    "head -20 Root-associated-Loci.txt"
   ]
  },
  {
   "cell_type": "markdown",
   "metadata": {},
   "source": [
    "# Problem 8:\n",
    "We use exactly the same strategy of the last problem, but this time we match (in the after-pipe command) the Pubmed ID pattern, that is a number preceded by an space and at the end of every line and we send (and only print) the final output to a new file called \"Root-associated-Publications.txt\"."
   ]
  },
  {
   "cell_type": "code",
   "execution_count": null,
   "metadata": {},
   "outputs": [],
   "source": [
    "grep -ina \"root\" Locus_Germplasm_Phenotype_20130122.txt | grep -E -iao \"\\s[0-9]+$\" > Root-associated-Publications.txt\n",
    "echo \"small control of match specificity\"\n",
    "head -20 Root-associated-Publications.txt"
   ]
  },
  {
   "cell_type": "markdown",
   "metadata": {},
   "source": [
    "# Problem 9:\n",
    "\n",
    "In order to achieve this we are going to use grep in the file Root-associated-Loci.txt. In the first one we are matching \"at1g\" that is the beggining of the AGI Locus Code of the genes on chromosome 1 and we send the matched lines to a file called Root-associated-Loci-c1. And we repeat this four times more for the genes in chromosome 2, 3, 4, 5 matching \"at2g\", \"at3g\", \"at4g\", \"at5g\" and sending the output of the match to Root-associated-Loci-c2, Root-associated-Loci-c3, Root-associated-Loci-c4, Root-associated-Loci-c5, respectly. Finally, we count the number of lines in these 5 files."
   ]
  },
  {
   "cell_type": "code",
   "execution_count": 32,
   "metadata": {},
   "outputs": [
    {
     "name": "stdout",
     "output_type": "stream",
     "text": [
      "Genes associated with roots in chromosome 1\n",
      "229 Root-associated-Loci-c1.txt\n",
      "Genes associated with roots in chromosome 2\n",
      "183 Root-associated-Loci-c2.txt\n",
      "Genes associated with roots in chromosome 3\n",
      "136 Root-associated-Loci-c3.txt\n",
      "Genes associated with roots in chromosome 4\n",
      "77 Root-associated-Loci-c4.txt\n",
      "Genes associated with roots in chromosome 5\n",
      "249 Root-associated-Loci-c5.txt\n",
      "874 Root-associated-Loci.txt\n"
     ]
    }
   ],
   "source": [
    "echo \"Genes associated with roots in chromosome 1\"\n",
    "grep -iao \"at1g\" Root-associated-Loci.txt > Root-associated-Loci-c1.txt\n",
    "wc -l Root-associated-Loci-c1.txt\n",
    "echo \"Genes associated with roots in chromosome 2\"\n",
    "grep -iao \"at2g\" Root-associated-Loci.txt > Root-associated-Loci-c2.txt\n",
    "wc -l Root-associated-Loci-c2.txt\n",
    "echo \"Genes associated with roots in chromosome 3\"\n",
    "grep -iao \"at3g\" Root-associated-Loci.txt  > Root-associated-Loci-c3.txt\n",
    "wc -l Root-associated-Loci-c3.txt\n",
    "echo \"Genes associated with roots in chromosome 4\"\n",
    "grep -iao \"at4g\" Root-associated-Loci.txt  > Root-associated-Loci-c4.txt\n",
    "wc -l Root-associated-Loci-c4.txt\n",
    "echo \"Genes associated with roots in chromosome 5\"\n",
    "grep -iao \"at5g\" Root-associated-Loci.txt  > Root-associated-Loci-c5.txt\n",
    "wc -l Root-associated-Loci-c5.txt\n",
    "wc -l Root-associated-Loci.txt"
   ]
  },
  {
   "cell_type": "markdown",
   "metadata": {},
   "source": [
    "The total addition of the lines in these 5 files (c1, c2, c3, c4 and c5) is 874 lines. This number is exactly the same as the lines in the original file \"Root-associated-Loci.txt\" (874 lines), so we did not forget any locus. And we obtain as a result that there are genes associated with roots in the 5 chromosomes.\n",
    "\n",
    "# Problem 10: \n",
    "Skipped"
   ]
  }
 ],
 "metadata": {
  "kernelspec": {
   "display_name": "Bash",
   "language": "bash",
   "name": "bash"
  },
  "language_info": {
   "codemirror_mode": "shell",
   "file_extension": ".sh",
   "mimetype": "text/x-sh",
   "name": "bash"
  }
 },
 "nbformat": 4,
 "nbformat_minor": 2
}
